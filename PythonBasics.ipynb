{
  "nbformat": 4,
  "nbformat_minor": 0,
  "metadata": {
    "colab": {
      "provenance": []
    },
    "kernelspec": {
      "name": "python3",
      "display_name": "Python 3"
    },
    "language_info": {
      "name": "python"
    }
  },
  "cells": [
    {
      "cell_type": "markdown",
      "source": [
        "# Python Basics Questions\n",
        "1. What is Python, and why is it popular?\n",
        "    - **What is Python,**\n",
        "  - Python is a high-level, interpreted programming language.\n",
        "  - It was created by Guido van Rossum and first released in 1991.\n",
        "  - Python is known for its Simpilicity,  readability, and versatility.\n",
        "  - It is used for: Web Devlopment , Data Science , Game Development , Machine Learning\n",
        "    - **Python is very Popular Programming Language because,**\n",
        "  -  Python has a Clean and Human readable Syntax and Easy to Learn.\n",
        "  -  Python has Large Ecosystem due to its thousands of Libraries and Frameworks.\n",
        "  -  Python has a Massive Global Community and extensive documentations.\n",
        "  -  Python can works on Windows , macOS , Linux etc.\n",
        "\n",
        "  \n",
        "2.  What is an interpreter in Python?\n",
        "   - An Interpreter in a Python is a program that reads and executes Python Code Line by Line , Translating it into Machine Code that our Computer understand and run this process is Interpretation.\n",
        "   - It acts as a bridge between the high-level Python code written by a programmer and the low-level instructions that the computer's processor can understand and execute.\n",
        "  \n",
        "3. What are pre-defined keywords in Python?\n",
        "  - Pre-defined keywords in Python are reserved words that have special meaning and the functionalities with in a language.\n",
        "  - We cannot use this words as variable names , function names because they are part of python syntax and its structure.\n",
        "  - Some keywords are: 'False', 'None', 'True', 'and', 'as', 'assert', 'break', 'class','if','or','not','is','in','def' .... etc\n",
        "  - Each keyword performs a particular task or defines a specific behavior within the code.\n",
        "\n",
        "4. Can keywords be used as variable names?\n",
        "  - No , Keywords cannot be used as a Variable name in Python because they are reserved words with special meanings to the compiler or interpreter and are part of the language's syntax. Using them as variable names would confuse the interpreter.\n",
        "\n",
        "5. What is mutability in Python ?\n",
        "  - In Python Mutability refers to an Object's value can be changed after it is created.\n",
        "  - Examples: \tlist, dict, set, bytearray\n",
        "\n",
        "6. Why are lists mutable, but tuples are immutable?\n",
        "    -  **In Python Lists are Mutable because,**\n",
        "  - List is Python are designed to be flexible.\n",
        "  - we can add , remove or change elements from the list when it is created .\n",
        "  - This is very useful when we want dynamic collections of items.\n",
        "  - They provide methods like append(), extend(), insert(), remove(), pop(), and sort() that directly modify the list in place without creating a new object.\n",
        "    - **In Python Tuples are Immutable because,**\n",
        "   - Tuples are designed for collections of items that are meant to be fixed and unchangeable after creation.\n",
        "   - Once a tuple is created, you cannot change its content.\n",
        "   - They do not offer methods for adding, removing, or modifying elements.\n",
        "   - This design makes tuples: Faster than lists and safer for data that should not change.\n",
        "\n",
        "7. What is the difference between “==” and “is” operators in Python?\n",
        " - In python \"==\" and \"is\" operators are used for comparisons but both have their different purposes .\n",
        " - * \"==\" is called as Equality Operator\n",
        " - This operator compares the values of two objects. It checks if the content or data stored in the objects are the same.\n",
        " - * \"is\" is called as Identity Operator\n",
        " - Checks if both variables point to the exact same object in memory.This means they point to the same memory address.\n",
        "\n",
        "8. What are logical operators in Python?\n",
        " - In Python Logical Operators are used to combine conditional statements,allowing to perform operations based on multiple conditions and return Boolean values (True or False).\n",
        "   - **The Three Logical Operators:** and , or ,not\n",
        " - and Operator: True if both conditions are True\n",
        " - or Operator: True if at least one condition is True\n",
        " - not Operator: Inverts the result\n",
        "  \n",
        "9. What is type casting in Python?\n",
        " - Type casting in Python, also known as type conversion it is the process of converting variable or value from one datatype to another datatype.\n",
        " - for example, turning a string into an integer, or a float into a string.\n",
        " - There are two types of type casting: implicit and explicit.\n",
        "   Implicit Type Casting (Coercion) and Explicit Type Casting (Casting).\n",
        "\n",
        "10. What is the difference between implicit and explicit type casting ?\n",
        "     - **Implicit Type Casting:**\n",
        " - In implicit type casting, the programming language automatically converts data from one type to another if needed.\n",
        " - For example, if you have an integer variable and you try to assign it to a float variable, the programming language will automatically convert the integer to a float without you having to do anything.\n",
        "   - Ex: x = 5    # int\n",
        "   - y = 2.0      # float\n",
        "   - z = x + y    # Python converts x to float\n",
        "   - print(z)     # Output: 7.0\n",
        "   - Python converts int to float because float is more precise — no data is lost.\n",
        "     - **Explicit Type Casting:**\n",
        "   - Explicit type casting, also known as type conversion or type coercion, occurs when the programmer explicitly converts a value from one data type to another.\n",
        "   - You manually convert the type using built-in functions like int(), float(), str(), etc.\n",
        "   - Ex: a =\"123\"\n",
        "   -    b = int(a)  #converted 123 to integer\n",
        "\n",
        "11. What is the purpose of conditional statements in Python ?\n",
        "  - In Python Conditional statements are used to make the decisions so that it control the flow of execution with in  program based on a conditions.\n",
        "  - Conditional statements in Python are used to execute certain blocks of code based on specific conditions.\n",
        "  - They enable programs to make decisions and perform different actions depending on whether a given condition evaluates to True or False.\n",
        "\n",
        "12. How does the elif statement work ?\n",
        "  - In Python else if is nothing but the elif .\n",
        "  - The elif keyword is pythons way of saying \"if the previous conditions were not true, then try this condition\".\n",
        "  - Evaluation Order: When an **if-elif-else** structure is encountered, Python first evaluates the condition of the initial if statement.\n",
        "  - If the if condition evaluates to True, the code block associated with that if statement is executed, and the entire if-elif-else block is exited.\n",
        "  - If the if condition evaluates to False, Python then proceeds to evaluate the condition of the first elif statement.\n",
        "\n",
        "13. What is the difference between for and while loops?\n",
        "  - Both for loops and while loops are control flow structures in programming,it allow you to repeatedly execute a block of code.\n",
        "  - **For Loop:**\n",
        "  - The for loop is used when you know in advance how many times you want to execute the block of code.\n",
        "  - It iterates over a sequence (e.g., a list, tuple, string, or range) and executes the block of code for each item in the sequence.\n",
        "  - The loop variable (variable) takes the value of each item in the sequence during each iteration.\n",
        "  - **While Loop:**\n",
        "  - The while loop is used when you don't know in advance how many times you want to execute the block of code. It continues to execute as long as the specified condition is true.\n",
        "  - In this we have to make sure that the condition is setted and it gets eventually false so that the loop will get stop otherwise the loop will get run infinite time.\n",
        "\n",
        "14. Describe a scenario where a while loop is more suitable than a for loop?\n",
        "  - A while loop is more suitable than a for loop when the number of iterations is unknown or depends on a dynamic condition that changes within the loop's execution.\n",
        "  - **Scenario: User Login System**\n",
        "  - to enter the correct password, The number of attempts isnt fixed — you want to keep asking until they get it right.\n",
        "  - This is a perfect case for a while loop, because you dont know how many times it will take.\n",
        "\n",
        "\n",
        "\n",
        "\n",
        "\n",
        "                 \n",
        "\n",
        "\n",
        "\n"
      ],
      "metadata": {
        "id": "HVOJCwuV25U6"
      }
    },
    {
      "cell_type": "code",
      "execution_count": 2,
      "metadata": {
        "colab": {
          "base_uri": "https://localhost:8080/"
        },
        "id": "g_3W7ebC0okR",
        "outputId": "350dda34-1270-4850-af19-24ac96457b50"
      },
      "outputs": [
        {
          "output_type": "stream",
          "name": "stdout",
          "text": [
            "Hello, World!\n"
          ]
        }
      ],
      "source": [
        "# Write a Python program to print \"Hello, World!\"\n",
        "print(\"Hello, World!\")\n"
      ]
    },
    {
      "cell_type": "code",
      "source": [
        "# Write a Python program that displays your name and age\n",
        "a = input(\"Enter your name: \")\n",
        "b = input(\"Enter your age: \")\n",
        "\n",
        "print(\"Your name is\", a, \"and your age is\", b)\n",
        "\n"
      ],
      "metadata": {
        "colab": {
          "base_uri": "https://localhost:8080/"
        },
        "id": "wGzv6yITXCtO",
        "outputId": "98e3cdf7-9793-491b-f4f0-9e97eebf7a5f"
      },
      "execution_count": 4,
      "outputs": [
        {
          "output_type": "stream",
          "name": "stdout",
          "text": [
            "Enter your name: Pranav Parsewar\n",
            "Enter your age: 21\n",
            "Your name is Pranav Parsewar and your age is 21\n"
          ]
        }
      ]
    },
    {
      "cell_type": "code",
      "source": [
        "# Write code to print all the pre-defined keywords in Python using the keyword library\n",
        "import keyword\n",
        "print(\"Python Keywords:\")\n",
        "print(keyword.kwlist)"
      ],
      "metadata": {
        "colab": {
          "base_uri": "https://localhost:8080/"
        },
        "id": "D5wNY4UlYFAu",
        "outputId": "2b766862-187f-4e45-a6f6-fbd528cd39eb"
      },
      "execution_count": 5,
      "outputs": [
        {
          "output_type": "stream",
          "name": "stdout",
          "text": [
            "Python Keywords:\n",
            "['False', 'None', 'True', 'and', 'as', 'assert', 'async', 'await', 'break', 'class', 'continue', 'def', 'del', 'elif', 'else', 'except', 'finally', 'for', 'from', 'global', 'if', 'import', 'in', 'is', 'lambda', 'nonlocal', 'not', 'or', 'pass', 'raise', 'return', 'try', 'while', 'with', 'yield']\n"
          ]
        }
      ]
    },
    {
      "cell_type": "code",
      "source": [
        "# Write a program that checks if a given word is a Python keyword.\n",
        "import keyword\n",
        "word = input(\"Enter a word:\")\n",
        "if keyword.iskeyword(word):\n",
        "  print(f\"'{word}' is a Python keyword.\")\n",
        "else:\n",
        "  print(f\"'{word}' is not a python keyword.\")"
      ],
      "metadata": {
        "colab": {
          "base_uri": "https://localhost:8080/"
        },
        "id": "CyLD0U7jYdUJ",
        "outputId": "324baf2f-c6f6-45d8-8d83-92ca3d618f35"
      },
      "execution_count": 7,
      "outputs": [
        {
          "output_type": "stream",
          "name": "stdout",
          "text": [
            "Enter a word:True\n",
            "'True' is a Python keyword.\n"
          ]
        }
      ]
    },
    {
      "cell_type": "code",
      "source": [
        "#  Create a list and tuple in Python, and demonstrate how attempting to change an element works differently for each.\n",
        "my_list = [1,2,3]\n",
        "my_tuple = (1,2,3)\n",
        "print(\"original list:\",my_list)\n",
        "my_list[1] = 200\n",
        "print(\"modified list :\", my_list)\n",
        "\n",
        "print(\"original tuple\",my_tuple)\n",
        "try:\n",
        "  my_tuple[1] = 200\n",
        "except TypeError as e:\n",
        "  print(\"Error:\",e)"
      ],
      "metadata": {
        "colab": {
          "base_uri": "https://localhost:8080/"
        },
        "id": "FvS7fGWsZqUb",
        "outputId": "cab70a31-2633-4f36-d691-3b13f5ce8d8d"
      },
      "execution_count": 9,
      "outputs": [
        {
          "output_type": "stream",
          "name": "stdout",
          "text": [
            "original list: [1, 2, 3]\n",
            "modified list : [1, 200, 3]\n",
            "original tuple (1, 2, 3)\n",
            "Error: 'tuple' object does not support item assignment\n"
          ]
        }
      ]
    },
    {
      "cell_type": "code",
      "source": [
        "#  Write a function to demonstrate the behavior of mutable and immutable arguments.\n",
        "def modify_values(num,my_list):\n",
        "  num += 10\n",
        "  my_list.append(99)\n",
        "\n",
        "  print(\"Inside function:\")\n",
        "  print(\"num =\", num)\n",
        "  print(\"my_list =\", my_list)\n",
        "\n",
        "x=5\n",
        "list = [1,2,3]\n",
        "modify_values(x,list)\n",
        "print(\"Outside function:\")\n",
        "print(\"x =\", x)\n",
        "print(\"list =\",list)"
      ],
      "metadata": {
        "colab": {
          "base_uri": "https://localhost:8080/"
        },
        "id": "MMuNsT9yefYB",
        "outputId": "925371b7-237c-4777-e6f6-8fe62e6126e2"
      },
      "execution_count": 10,
      "outputs": [
        {
          "output_type": "stream",
          "name": "stdout",
          "text": [
            "Inside function:\n",
            "num = 15\n",
            "my_list = [1, 2, 3, 99]\n",
            "Outside function:\n",
            "x = 5\n",
            "list = [1, 2, 3, 99]\n"
          ]
        }
      ]
    },
    {
      "cell_type": "code",
      "source": [
        "# Write a program that performs basic arithmetic operations on two user-input numbers.\n",
        "num1 = float(input(\"Enter the first number:\"))\n",
        "num2 = float(input(\"Enter the second number:\"))\n",
        "print(\"Addition:\",num1 + num2)\n",
        "print(\"Subtraction:\", num1 - num2)\n",
        "print(\"Multiplication:\",num1 * num2)\n",
        "if num2 != 0:\n",
        "  print(\"Division:\",num1 /num2)\n",
        "else:\n",
        "  print(\"Division by zero is not allowed\")"
      ],
      "metadata": {
        "colab": {
          "base_uri": "https://localhost:8080/"
        },
        "id": "qFAN037Zf1lF",
        "outputId": "8f5d03df-0b65-4e9f-f251-ab8f098dfe35"
      },
      "execution_count": 13,
      "outputs": [
        {
          "output_type": "stream",
          "name": "stdout",
          "text": [
            "Enter the first number:3\n",
            "Enter the second number:3\n",
            "Addition: 6.0\n",
            "Subtraction: 0.0\n",
            "Multiplication: 9.0\n",
            "Division: 1.0\n"
          ]
        }
      ]
    },
    {
      "cell_type": "code",
      "source": [
        "# Write a program to demonstrate the use of logical operators.\n",
        "a = int(input(\"Enter the first number: \"))\n",
        "b = int(input(\"Enter the second number: \"))\n",
        "print(\"\\nLogical AND:\")\n",
        "if a > 0 and b > 0:\n",
        "    print(\"Both numbers are positive.\")\n",
        "else:\n",
        "    print(\"At least one number is not positive.\")\n",
        "\n",
        "print(\"\\nLogical OR:\")\n",
        "if a > 0 or b > 0:\n",
        "    print(\"At least one number is positive.\")\n",
        "else:\n",
        "    print(\"Neither number is positive.\")\n",
        "\n",
        "print(\"\\nLogical NOT:\")\n",
        "print(\"NOT (a > b):\", not (a > b))\n"
      ],
      "metadata": {
        "colab": {
          "base_uri": "https://localhost:8080/"
        },
        "id": "avtKugC9wsMC",
        "outputId": "6a1c1c48-4edc-4794-8db3-5f6ee04706a5"
      },
      "execution_count": 14,
      "outputs": [
        {
          "output_type": "stream",
          "name": "stdout",
          "text": [
            "Enter the first number: 3\n",
            "Enter the second number: 2\n",
            "\n",
            "Logical AND:\n",
            "Both numbers are positive.\n",
            "\n",
            "Logical OR:\n",
            "At least one number is positive.\n",
            "\n",
            "Logical NOT:\n",
            "NOT (a > b): False\n"
          ]
        }
      ]
    },
    {
      "cell_type": "code",
      "source": [
        "# Write a Python program to convert user input from string to integer, float, and boolean types\n",
        "\n",
        "user_input = input(\"Enter a value: \")\n",
        "a=type(user_input)\n",
        "print(a)\n",
        "\n",
        "try:\n",
        "    int_value = int(user_input)\n",
        "    print(\"As Integer:\", int_value)\n",
        "except ValueError:\n",
        "    print(\"Cannot convert to Integer.\")\n",
        "\n",
        "\n",
        "try:\n",
        "    float_value = float(user_input)\n",
        "    print(\"As Float:\", float_value)\n",
        "except ValueError:\n",
        "    print(\"Cannot convert to Float.\")\n",
        "\n",
        "\n",
        "bool_value = bool(user_input)\n",
        "print(\"As Boolean:\", bool_value)\n",
        "\n"
      ],
      "metadata": {
        "colab": {
          "base_uri": "https://localhost:8080/"
        },
        "id": "_JTCnAV1wyWS",
        "outputId": "c5a7bbd3-9646-4217-cc18-765d44286fbc"
      },
      "execution_count": 25,
      "outputs": [
        {
          "output_type": "stream",
          "name": "stdout",
          "text": [
            "Enter a value: 6\n",
            "<class 'str'>\n",
            "As Integer: 6\n",
            "As Float: 6.0\n",
            "As Boolean: True\n"
          ]
        }
      ]
    },
    {
      "cell_type": "code",
      "source": [
        "# Write code to demonstrate type casting with list elements.\n",
        "str_list = ['10', '20', '30', '0', '']\n",
        "\n",
        "int_list = []\n",
        "float_list = []\n",
        "bool_list = []\n",
        "\n",
        "for item in str_list:\n",
        "    try:\n",
        "        int_list.append(int(item))\n",
        "    except ValueError:\n",
        "        int_list.append(\"Error\")\n",
        "\n",
        "    try:\n",
        "        float_list.append(float(item))\n",
        "    except ValueError:\n",
        "        float_list.append(\"Error\")\n",
        "\n",
        "    bool_list.append(bool(item))\n",
        "\n",
        "print(\"Original list:\", str_list)\n",
        "print(\"As Integers:  \", int_list)\n",
        "print(\"As Floats:    \", float_list)\n",
        "print(\"As Booleans:  \", bool_list)\n"
      ],
      "metadata": {
        "colab": {
          "base_uri": "https://localhost:8080/"
        },
        "id": "p1M_SEemzPUf",
        "outputId": "5d7f4c92-50b4-45e0-9d03-de50412f2881"
      },
      "execution_count": 26,
      "outputs": [
        {
          "output_type": "stream",
          "name": "stdout",
          "text": [
            "Original list: ['10', '20', '30', '0', '']\n",
            "As Integers:   [10, 20, 30, 0, 'Error']\n",
            "As Floats:     [10.0, 20.0, 30.0, 0.0, 'Error']\n",
            "As Booleans:   [True, True, True, True, False]\n"
          ]
        }
      ]
    },
    {
      "cell_type": "code",
      "source": [
        "# Write a program that checks if a number is positive, negative, or zero.\n",
        "\n",
        "num = float(input(\"Enter a number: \"))\n",
        "\n",
        "if num > 0:\n",
        "    print(\"The number is positive.\")\n",
        "elif num < 0:\n",
        "    print(\"The number is negative.\")\n",
        "else:\n",
        "    print(\"The number is zero.\")\n",
        "\n"
      ],
      "metadata": {
        "colab": {
          "base_uri": "https://localhost:8080/"
        },
        "id": "uCIO7p0CzgZU",
        "outputId": "3e5858eb-75e1-46f4-af2d-3cd5c78203ca"
      },
      "execution_count": 27,
      "outputs": [
        {
          "output_type": "stream",
          "name": "stdout",
          "text": [
            "Enter a number: -7\n",
            "The number is negative.\n"
          ]
        }
      ]
    },
    {
      "cell_type": "code",
      "source": [
        "# Write a for loop to print numbers from 1 to 10.\n",
        "for i in range(1, 11):\n",
        "    print(i)\n"
      ],
      "metadata": {
        "colab": {
          "base_uri": "https://localhost:8080/"
        },
        "id": "z7-Fl2NnztJb",
        "outputId": "3b4a8010-3e0a-4d34-881e-5de85e279408"
      },
      "execution_count": 28,
      "outputs": [
        {
          "output_type": "stream",
          "name": "stdout",
          "text": [
            "1\n",
            "2\n",
            "3\n",
            "4\n",
            "5\n",
            "6\n",
            "7\n",
            "8\n",
            "9\n",
            "10\n"
          ]
        }
      ]
    },
    {
      "cell_type": "code",
      "source": [
        "#  Write a Python program to find the sum of all even numbers between 1 and 50\n",
        "sum =0\n",
        "for i in range(1, 51):\n",
        "  if i % 2 == 0:\n",
        "    print(i)\n",
        "    sum += i\n",
        "print(\"sum of all even numbers rom 1 to 50 is\",sum)\n"
      ],
      "metadata": {
        "colab": {
          "base_uri": "https://localhost:8080/"
        },
        "id": "ygTl8OzTz81e",
        "outputId": "3bd508f6-ef21-4211-efd9-d39c12a65f18"
      },
      "execution_count": 35,
      "outputs": [
        {
          "output_type": "stream",
          "name": "stdout",
          "text": [
            "2\n",
            "4\n",
            "6\n",
            "8\n",
            "10\n",
            "12\n",
            "14\n",
            "16\n",
            "18\n",
            "20\n",
            "22\n",
            "24\n",
            "26\n",
            "28\n",
            "30\n",
            "32\n",
            "34\n",
            "36\n",
            "38\n",
            "40\n",
            "42\n",
            "44\n",
            "46\n",
            "48\n",
            "50\n",
            "sum of all even numbers rom 1 to 50 is 650\n"
          ]
        }
      ]
    },
    {
      "cell_type": "code",
      "source": [
        "# Write a program to reverse a string using a while loop.\n",
        "text = input(\"Enter a string: \")\n",
        "\n",
        "reversed_text = \"\"\n",
        "index = len(text) - 1\n",
        "\n",
        "while index >= 0:\n",
        "    reversed_text += text[index]\n",
        "    index -= 1\n",
        "\n",
        "print(\"Reversed string:\", reversed_text)\n"
      ],
      "metadata": {
        "colab": {
          "base_uri": "https://localhost:8080/"
        },
        "id": "x32MgfNE1Vfg",
        "outputId": "0843769a-5bc6-4665-a0cf-26f3b20cf084"
      },
      "execution_count": 37,
      "outputs": [
        {
          "output_type": "stream",
          "name": "stdout",
          "text": [
            "Enter a string: pranav\n",
            "Reversed string: vanarp\n"
          ]
        }
      ]
    },
    {
      "cell_type": "code",
      "source": [
        "# Write a Python program to calculate the factorial of a number provided by the user using a while loop.\n",
        "\n",
        "num = int(input(\"Enter a non-negative integer: \"))\n",
        "\n",
        "if num < 0:\n",
        "    print(\"Factorial is not defined for negative numbers.\")\n",
        "else:\n",
        "    factorial = 1\n",
        "    i = 1\n",
        "\n",
        "    while i <= num:\n",
        "        factorial *= i\n",
        "        i += 1\n",
        "\n",
        "    print(f\"Factorial of {num} is: {factorial}\")\n"
      ],
      "metadata": {
        "colab": {
          "base_uri": "https://localhost:8080/"
        },
        "id": "ptoROLX21qIR",
        "outputId": "839f8211-d2eb-4914-8814-5e6246d5dd27"
      },
      "execution_count": 36,
      "outputs": [
        {
          "output_type": "stream",
          "name": "stdout",
          "text": [
            "Enter a non-negative integer: 3\n",
            "Factorial of 3 is: 6\n"
          ]
        }
      ]
    }
  ]
}